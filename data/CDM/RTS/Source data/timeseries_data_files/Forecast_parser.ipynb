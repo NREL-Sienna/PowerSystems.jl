{
 "cells": [
  {
   "cell_type": "code",
   "execution_count": 2,
   "metadata": {},
   "outputs": [],
   "source": [
    "using DataFrames\n",
    "using CSV\n",
    "using JSON"
   ]
  },
  {
   "cell_type": "code",
   "execution_count": 68,
   "metadata": {},
   "outputs": [],
   "source": [
    "using PowerSystems\n",
    "using NamedTuples\n",
    "using TimeSeries"
   ]
  },
  {
   "cell_type": "code",
   "execution_count": 5,
   "metadata": {},
   "outputs": [
    {
     "data": {
      "text/plain": [
       "add_date_time (generic function with 1 method)"
      ]
     },
     "execution_count": 5,
     "metadata": {},
     "output_type": "execute_result"
    }
   ],
   "source": [
    "function add_date_time(df)\n",
    "    df[:DateTime] = collect(DateTime(df[1,:Year],df[1,:Month],df[1,:Day],Int(df[1,:Period])-1):Hour(1):\n",
    "                        DateTime(df[end,:Year],df[end,:Month],df[end,:Day],Int(df[end,:Period])-1))\n",
    "    delete!(df, [:Year,:Month,:Day,:Period])\n",
    "    \n",
    "end"
   ]
  },
  {
   "cell_type": "markdown",
   "metadata": {},
   "source": [
    "### TODO :\n",
    "- change the order of the columns\n",
    "- make datetime index for the data frame"
   ]
  },
  {
   "cell_type": "code",
   "execution_count": 37,
   "metadata": {},
   "outputs": [
    {
     "data": {
      "text/plain": [
       "make_forecast_dict (generic function with 3 methods)"
      ]
     },
     "execution_count": 37,
     "metadata": {},
     "output_type": "execute_result"
    }
   ],
   "source": [
    "function make_forecast_dict(df,resolution::Base.Dates.Period,horizon::Int,devices::Array{PowerSystems.Generator,1})\n",
    "    Forecasts = Dict{String,Any}()\n",
    "    Forecasts[\"Deterministic\"] = Dict{String,Any}()\n",
    "    time_delta = Minute(df[2,:DateTime]-df[1,:DateTime])\n",
    "    initialtime = df[1,:DateTime]\n",
    "    last_date = df[end,:DateTime]\n",
    "    ts_dict = Dict{Any,Dict{Int,TimeSeries.TimeArray}}()\n",
    "    device_names = [d.name for d in devices]\n",
    "    for name in convert(Array{String},names(df))\n",
    "        if name in device_names\n",
    "            ts_raw = TimeSeries.TimeArray(df[:,:DateTime],df[:,Symbol(name)])\n",
    "            for ts in initialtime:resolution:last_date\n",
    "                ts_dict[ts] = Dict{Int,TimeSeries.TimeArray}(1 => ts_raw[ts:time_delta:(ts+resolution)])\n",
    "            end\n",
    "            device = [d for d in devices if d.name ==name ] \n",
    "            Forecasts[\"Deterministic\"][name]=Dict{String,Any}(\"horizon\" =>horizon,\n",
    "                                                                    \"resolution\" => resolution,\n",
    "                                                                    \"interval\" => time_delta,\n",
    "                                                                    \"initialtime\" => initialtime,\n",
    "                                                                    \"device\" => device[1],\n",
    "                                                                    \"data\" => ts_dict\n",
    "                                                                        )\n",
    "        end\n",
    "    end\n",
    "    return Forecasts\n",
    "end"
   ]
  },
  {
   "cell_type": "markdown",
   "metadata": {},
   "source": [
    "### TODO:\n",
    "- Add Checks\n",
    "- gen_names array arg ?"
   ]
  },
  {
   "cell_type": "code",
   "execution_count": 7,
   "metadata": {},
   "outputs": [
    {
     "data": {
      "text/plain": [
       "make_forecast_array (generic function with 1 method)"
      ]
     },
     "execution_count": 7,
     "metadata": {},
     "output_type": "execute_result"
    }
   ],
   "source": [
    "function make_forecast_array(dict)\n",
    "    Forecasts =Array{PowerSystems.Forecast}(0)\n",
    "            for (time_key,time_dict) in dict\n",
    "                push!(Forecasts,Deterministic(time_dict[\"device\"],time_dict[\"horizon\"],\n",
    "                                time_dict[\"resolution\"],time_dict[\"interval\"],\n",
    "                                time_dict[\"initialtime\"],\n",
    "                                time_dict[\"data\"] \n",
    "                                ))\n",
    "            end\n",
    "    return Forecasts\n",
    "end"
   ]
  },
  {
   "cell_type": "markdown",
   "metadata": {},
   "source": [
    "## Run Test\n",
    "- TODO : Read Json to Dict"
   ]
  },
  {
   "cell_type": "markdown",
   "metadata": {},
   "source": [
    "- Read Csv data from RTS-GMLC Hydro DAY_AHEAD"
   ]
  },
  {
   "cell_type": "code",
   "execution_count": 43,
   "metadata": {},
   "outputs": [],
   "source": [
    "HydroTS_raw = CSV.read(\"../timeseries_data_files/HYDRO/DAY_AHEAD_hydro.csv\");"
   ]
  },
  {
   "cell_type": "markdown",
   "metadata": {},
   "source": [
    "- Add DateTime"
   ]
  },
  {
   "cell_type": "code",
   "execution_count": 44,
   "metadata": {},
   "outputs": [],
   "source": [
    "add_date_time(HydroTS_raw);\n",
    "gen_names =convert(Array{String},names(HydroTS_raw)[1:end-1]);"
   ]
  },
  {
   "cell_type": "markdown",
   "metadata": {},
   "source": [
    "- Make Dict"
   ]
  },
  {
   "cell_type": "markdown",
   "metadata": {},
   "source": [
    "- Write Json"
   ]
  },
  {
   "cell_type": "code",
   "execution_count": null,
   "metadata": {},
   "outputs": [],
   "source": [
    "for (type_key,type_fc) in Forecasts_dict\n",
    "    for (key,det_dicts) in type_fc\n",
    "        stringdata =JSON.json(det_dicts, 3)\n",
    "        open(\"JSON/$key.json\", \"w\") do f\n",
    "            write(f, stringdata)\n",
    "         end\n",
    "    end\n",
    "end"
   ]
  },
  {
   "cell_type": "markdown",
   "metadata": {},
   "source": [
    "- Make Array"
   ]
  },
  {
   "cell_type": "code",
   "execution_count": null,
   "metadata": {},
   "outputs": [],
   "source": [
    "Forecast = make_forecast_array(Forecasts);"
   ]
  },
  {
   "cell_type": "markdown",
   "metadata": {},
   "source": [
    "- Example data Extraction"
   ]
  },
  {
   "cell_type": "code",
   "execution_count": null,
   "metadata": {},
   "outputs": [],
   "source": [
    "Forecast_back[1].device_name,  Forecast_back[1].initialtime, Forecast_back[1].resolution"
   ]
  },
  {
   "cell_type": "code",
   "execution_count": null,
   "metadata": {},
   "outputs": [],
   "source": [
    "Forecasts[\"Deterministic\"][\"215_HYDRO_3\"][\"data\"][DateTime(2020,02,13,00,00,00)][1]"
   ]
  },
  {
   "cell_type": "code",
   "execution_count": 30,
   "metadata": {
    "collapsed": true
   },
   "outputs": [
    {
     "name": "stderr",
     "output_type": "stream",
     "text": [
      "\u001b[1m\u001b[33mWARNING: \u001b[39m\u001b[22m\u001b[33mreadtable is deprecated, use CSV.read from the CSV package instead\u001b[39m\n",
      "Stacktrace:\n",
      " [1] \u001b[1mdepwarn\u001b[22m\u001b[22m\u001b[1m(\u001b[22m\u001b[22m::String, ::Symbol\u001b[1m)\u001b[22m\u001b[22m at \u001b[1m./deprecated.jl:70\u001b[22m\u001b[22m\n",
      " [2] \u001b[1m#readtable#229\u001b[22m\u001b[22m\u001b[1m(\u001b[22m\u001b[22m::Bool, ::Char, ::Array{Char,1}, ::Char, ::Array{String,1}, ::Array{String,1}, ::Array{String,1}, ::Bool, ::Int64, ::Array{Symbol,1}, ::Array{Any,1}, ::Bool, ::Char, ::Bool, ::Int64, ::Array{Int64,1}, ::Bool, ::Symbol, ::Bool, ::Bool, ::DataFrames.#readtable, ::String\u001b[1m)\u001b[22m\u001b[22m at \u001b[1m/Users/sdalvi/.julia/v0.6/DataFrames/src/deprecated.jl:1045\u001b[22m\u001b[22m\n",
      " [3] \u001b[1mreadtable\u001b[22m\u001b[22m\u001b[1m(\u001b[22m\u001b[22m::String\u001b[1m)\u001b[22m\u001b[22m at \u001b[1m/Users/sdalvi/.julia/v0.6/DataFrames/src/deprecated.jl:1045\u001b[22m\u001b[22m\n",
      " [4] \u001b[1minclude_string\u001b[22m\u001b[22m\u001b[1m(\u001b[22m\u001b[22m::String, ::String\u001b[1m)\u001b[22m\u001b[22m at \u001b[1m./loading.jl:522\u001b[22m\u001b[22m\n",
      " [5] \u001b[1mexecute_request\u001b[22m\u001b[22m\u001b[1m(\u001b[22m\u001b[22m::ZMQ.Socket, ::IJulia.Msg\u001b[1m)\u001b[22m\u001b[22m at \u001b[1m/Users/sdalvi/.julia/v0.6/IJulia/src/execute_request.jl:158\u001b[22m\u001b[22m\n",
      " [6] \u001b[1m(::Compat.#inner#18{Array{Any,1},IJulia.#execute_request,Tuple{ZMQ.Socket,IJulia.Msg}})\u001b[22m\u001b[22m\u001b[1m(\u001b[22m\u001b[22m\u001b[1m)\u001b[22m\u001b[22m at \u001b[1m/Users/sdalvi/.julia/v0.6/Compat/src/Compat.jl:378\u001b[22m\u001b[22m\n",
      " [7] \u001b[1meventloop\u001b[22m\u001b[22m\u001b[1m(\u001b[22m\u001b[22m::ZMQ.Socket\u001b[1m)\u001b[22m\u001b[22m at \u001b[1m/Users/sdalvi/.julia/v0.6/IJulia/src/eventloop.jl:8\u001b[22m\u001b[22m\n",
      " [8] \u001b[1m(::IJulia.##14#17)\u001b[22m\u001b[22m\u001b[1m(\u001b[22m\u001b[22m\u001b[1m)\u001b[22m\u001b[22m at \u001b[1m./task.jl:335\u001b[22m\u001b[22m\n",
      "while loading In[30], in expression starting on line 1\n",
      "\u001b[1m\u001b[33mWARNING: \u001b[39m\u001b[22m\u001b[33mreadtable is deprecated, use CSV.read from the CSV package instead\u001b[39m\n",
      "Stacktrace:\n",
      " [1] \u001b[1mdepwarn\u001b[22m\u001b[22m\u001b[1m(\u001b[22m\u001b[22m::String, ::Symbol\u001b[1m)\u001b[22m\u001b[22m at \u001b[1m./deprecated.jl:70\u001b[22m\u001b[22m\n",
      " [2] \u001b[1m#readtable#229\u001b[22m\u001b[22m\u001b[1m(\u001b[22m\u001b[22m::Bool, ::Char, ::Array{Char,1}, ::Char, ::Array{String,1}, ::Array{String,1}, ::Array{String,1}, ::Bool, ::Int64, ::Array{Symbol,1}, ::Array{Any,1}, ::Bool, ::Char, ::Bool, ::Int64, ::Array{Int64,1}, ::Bool, ::Symbol, ::Bool, ::Bool, ::DataFrames.#readtable, ::String\u001b[1m)\u001b[22m\u001b[22m at \u001b[1m/Users/sdalvi/.julia/v0.6/DataFrames/src/deprecated.jl:1045\u001b[22m\u001b[22m\n",
      " [3] \u001b[1mreadtable\u001b[22m\u001b[22m\u001b[1m(\u001b[22m\u001b[22m::String\u001b[1m)\u001b[22m\u001b[22m at \u001b[1m/Users/sdalvi/.julia/v0.6/DataFrames/src/deprecated.jl:1045\u001b[22m\u001b[22m\n",
      " [4] \u001b[1minclude_string\u001b[22m\u001b[22m\u001b[1m(\u001b[22m\u001b[22m::String, ::String\u001b[1m)\u001b[22m\u001b[22m at \u001b[1m./loading.jl:522\u001b[22m\u001b[22m\n",
      " [5] \u001b[1mexecute_request\u001b[22m\u001b[22m\u001b[1m(\u001b[22m\u001b[22m::ZMQ.Socket, ::IJulia.Msg\u001b[1m)\u001b[22m\u001b[22m at \u001b[1m/Users/sdalvi/.julia/v0.6/IJulia/src/execute_request.jl:158\u001b[22m\u001b[22m\n",
      " [6] \u001b[1m(::Compat.#inner#18{Array{Any,1},IJulia.#execute_request,Tuple{ZMQ.Socket,IJulia.Msg}})\u001b[22m\u001b[22m\u001b[1m(\u001b[22m\u001b[22m\u001b[1m)\u001b[22m\u001b[22m at \u001b[1m/Users/sdalvi/.julia/v0.6/Compat/src/Compat.jl:378\u001b[22m\u001b[22m\n",
      " [7] \u001b[1meventloop\u001b[22m\u001b[22m\u001b[1m(\u001b[22m\u001b[22m::ZMQ.Socket\u001b[1m)\u001b[22m\u001b[22m at \u001b[1m/Users/sdalvi/.julia/v0.6/IJulia/src/eventloop.jl:8\u001b[22m\u001b[22m\n",
      " [8] \u001b[1m(::IJulia.##14#17)\u001b[22m\u001b[22m\u001b[1m(\u001b[22m\u001b[22m\u001b[1m)\u001b[22m\u001b[22m at \u001b[1m./task.jl:335\u001b[22m\u001b[22m\n",
      "while loading In[30], in expression starting on line 2\n",
      "\u001b[1m\u001b[33mWARNING: \u001b[39m\u001b[22m\u001b[33mreadtable is deprecated, use CSV.read from the CSV package instead\u001b[39m\n",
      "Stacktrace:\n",
      " [1] \u001b[1mdepwarn\u001b[22m\u001b[22m\u001b[1m(\u001b[22m\u001b[22m::String, ::Symbol\u001b[1m)\u001b[22m\u001b[22m at \u001b[1m./deprecated.jl:70\u001b[22m\u001b[22m\n",
      " [2] \u001b[1m#readtable#229\u001b[22m\u001b[22m\u001b[1m(\u001b[22m\u001b[22m::Bool, ::Char, ::Array{Char,1}, ::Char, ::Array{String,1}, ::Array{String,1}, ::Array{String,1}, ::Bool, ::Int64, ::Array{Symbol,1}, ::Array{Any,1}, ::Bool, ::Char, ::Bool, ::Int64, ::Array{Int64,1}, ::Bool, ::Symbol, ::Bool, ::Bool, ::DataFrames.#readtable, ::String\u001b[1m)\u001b[22m\u001b[22m at \u001b[1m/Users/sdalvi/.julia/v0.6/DataFrames/src/deprecated.jl:1045\u001b[22m\u001b[22m\n",
      " [3] \u001b[1mreadtable\u001b[22m\u001b[22m\u001b[1m(\u001b[22m\u001b[22m::String\u001b[1m)\u001b[22m\u001b[22m at \u001b[1m/Users/sdalvi/.julia/v0.6/DataFrames/src/deprecated.jl:1045\u001b[22m\u001b[22m\n",
      " [4] \u001b[1minclude_string\u001b[22m\u001b[22m\u001b[1m(\u001b[22m\u001b[22m::String, ::String\u001b[1m)\u001b[22m\u001b[22m at \u001b[1m./loading.jl:522\u001b[22m\u001b[22m\n",
      " [5] \u001b[1mexecute_request\u001b[22m\u001b[22m\u001b[1m(\u001b[22m\u001b[22m::ZMQ.Socket, ::IJulia.Msg\u001b[1m)\u001b[22m\u001b[22m at \u001b[1m/Users/sdalvi/.julia/v0.6/IJulia/src/execute_request.jl:158\u001b[22m\u001b[22m\n",
      " [6] \u001b[1m(::Compat.#inner#18{Array{Any,1},IJulia.#execute_request,Tuple{ZMQ.Socket,IJulia.Msg}})\u001b[22m\u001b[22m\u001b[1m(\u001b[22m\u001b[22m\u001b[1m)\u001b[22m\u001b[22m at \u001b[1m/Users/sdalvi/.julia/v0.6/Compat/src/Compat.jl:378\u001b[22m\u001b[22m\n",
      " [7] \u001b[1meventloop\u001b[22m\u001b[22m\u001b[1m(\u001b[22m\u001b[22m::ZMQ.Socket\u001b[1m)\u001b[22m\u001b[22m at \u001b[1m/Users/sdalvi/.julia/v0.6/IJulia/src/eventloop.jl:8\u001b[22m\u001b[22m\n",
      " [8] \u001b[1m(::IJulia.##14#17)\u001b[22m\u001b[22m\u001b[1m(\u001b[22m\u001b[22m\u001b[1m)\u001b[22m\u001b[22m at \u001b[1m./task.jl:335\u001b[22m\u001b[22m\n",
      "while loading In[30], in expression starting on line 3\n",
      "\u001b[1m\u001b[33mWARNING: \u001b[39m\u001b[22m\u001b[33mreadtable is deprecated, use CSV.read from the CSV package instead\u001b[39m\n",
      "Stacktrace:\n",
      " [1] \u001b[1mdepwarn\u001b[22m\u001b[22m\u001b[1m(\u001b[22m\u001b[22m::String, ::Symbol\u001b[1m)\u001b[22m\u001b[22m at \u001b[1m./deprecated.jl:70\u001b[22m\u001b[22m\n",
      " [2] \u001b[1m#readtable#229\u001b[22m\u001b[22m\u001b[1m(\u001b[22m\u001b[22m::Bool, ::Char, ::Array{Char,1}, ::Char, ::Array{String,1}, ::Array{String,1}, ::Array{String,1}, ::Bool, ::Int64, ::Array{Symbol,1}, ::Array{Any,1}, ::Bool, ::Char, ::Bool, ::Int64, ::Array{Int64,1}, ::Bool, ::Symbol, ::Bool, ::Bool, ::DataFrames.#readtable, ::String\u001b[1m)\u001b[22m\u001b[22m at \u001b[1m/Users/sdalvi/.julia/v0.6/DataFrames/src/deprecated.jl:1045\u001b[22m\u001b[22m\n",
      " [3] \u001b[1mreadtable\u001b[22m\u001b[22m\u001b[1m(\u001b[22m\u001b[22m::String\u001b[1m)\u001b[22m\u001b[22m at \u001b[1m/Users/sdalvi/.julia/v0.6/DataFrames/src/deprecated.jl:1045\u001b[22m\u001b[22m\n",
      " [4] \u001b[1minclude_string\u001b[22m\u001b[22m\u001b[1m(\u001b[22m\u001b[22m::String, ::String\u001b[1m)\u001b[22m\u001b[22m at \u001b[1m./loading.jl:522\u001b[22m\u001b[22m\n",
      " [5] \u001b[1mexecute_request\u001b[22m\u001b[22m\u001b[1m(\u001b[22m\u001b[22m::ZMQ.Socket, ::IJulia.Msg\u001b[1m)\u001b[22m\u001b[22m at \u001b[1m/Users/sdalvi/.julia/v0.6/IJulia/src/execute_request.jl:158\u001b[22m\u001b[22m\n",
      " [6] \u001b[1m(::Compat.#inner#18{Array{Any,1},IJulia.#execute_request,Tuple{ZMQ.Socket,IJulia.Msg}})\u001b[22m\u001b[22m\u001b[1m(\u001b[22m\u001b[22m\u001b[1m)\u001b[22m\u001b[22m at \u001b[1m/Users/sdalvi/.julia/v0.6/Compat/src/Compat.jl:378\u001b[22m\u001b[22m\n",
      " [7] \u001b[1meventloop\u001b[22m\u001b[22m\u001b[1m(\u001b[22m\u001b[22m::ZMQ.Socket\u001b[1m)\u001b[22m\u001b[22m at \u001b[1m/Users/sdalvi/.julia/v0.6/IJulia/src/eventloop.jl:8\u001b[22m\u001b[22m\n",
      " [8] \u001b[1m(::IJulia.##14#17)\u001b[22m\u001b[22m\u001b[1m(\u001b[22m\u001b[22m\u001b[1m)\u001b[22m\u001b[22m at \u001b[1m./task.jl:335\u001b[22m\u001b[22m\n",
      "while loading In[30], in expression starting on line 4\n",
      "\u001b[1m\u001b[33mWARNING: \u001b[39m\u001b[22m\u001b[33mreadtable is deprecated, use CSV.read from the CSV package instead\u001b[39m\n",
      "Stacktrace:\n",
      " [1] \u001b[1mdepwarn\u001b[22m\u001b[22m\u001b[1m(\u001b[22m\u001b[22m::String, ::Symbol\u001b[1m)\u001b[22m\u001b[22m at \u001b[1m./deprecated.jl:70\u001b[22m\u001b[22m\n",
      " [2] \u001b[1m#readtable#229\u001b[22m\u001b[22m\u001b[1m(\u001b[22m\u001b[22m::Bool, ::Char, ::Array{Char,1}, ::Char, ::Array{String,1}, ::Array{String,1}, ::Array{String,1}, ::Bool, ::Int64, ::Array{Symbol,1}, ::Array{Any,1}, ::Bool, ::Char, ::Bool, ::Int64, ::Array{Int64,1}, ::Bool, ::Symbol, ::Bool, ::Bool, ::DataFrames.#readtable, ::String\u001b[1m)\u001b[22m\u001b[22m at \u001b[1m/Users/sdalvi/.julia/v0.6/DataFrames/src/deprecated.jl:1045\u001b[22m\u001b[22m\n",
      " [3] \u001b[1mreadtable\u001b[22m\u001b[22m\u001b[1m(\u001b[22m\u001b[22m::String\u001b[1m)\u001b[22m\u001b[22m at \u001b[1m/Users/sdalvi/.julia/v0.6/DataFrames/src/deprecated.jl:1045\u001b[22m\u001b[22m\n",
      " [4] \u001b[1minclude_string\u001b[22m\u001b[22m\u001b[1m(\u001b[22m\u001b[22m::String, ::String\u001b[1m)\u001b[22m\u001b[22m at \u001b[1m./loading.jl:522\u001b[22m\u001b[22m\n",
      " [5] \u001b[1mexecute_request\u001b[22m\u001b[22m\u001b[1m(\u001b[22m\u001b[22m::ZMQ.Socket, ::IJulia.Msg\u001b[1m)\u001b[22m\u001b[22m at \u001b[1m/Users/sdalvi/.julia/v0.6/IJulia/src/execute_request.jl:158\u001b[22m\u001b[22m\n",
      " [6] \u001b[1m(::Compat.#inner#18{Array{Any,1},IJulia.#execute_request,Tuple{ZMQ.Socket,IJulia.Msg}})\u001b[22m\u001b[22m\u001b[1m(\u001b[22m\u001b[22m\u001b[1m)\u001b[22m\u001b[22m at \u001b[1m/Users/sdalvi/.julia/v0.6/Compat/src/Compat.jl:378\u001b[22m\u001b[22m\n",
      " [7] \u001b[1meventloop\u001b[22m\u001b[22m\u001b[1m(\u001b[22m\u001b[22m::ZMQ.Socket\u001b[1m)\u001b[22m\u001b[22m at \u001b[1m/Users/sdalvi/.julia/v0.6/IJulia/src/eventloop.jl:8\u001b[22m\u001b[22m\n",
      " [8] \u001b[1m(::IJulia.##14#17)\u001b[22m\u001b[22m\u001b[1m(\u001b[22m\u001b[22m\u001b[1m)\u001b[22m\u001b[22m at \u001b[1m./task.jl:335\u001b[22m\u001b[22m\n",
      "while loading In[30], in expression starting on line 5\n",
      "\u001b[1m\u001b[33mWARNING: \u001b[39m\u001b[22m\u001b[33mreadtable is deprecated, use CSV.read from the CSV package instead\u001b[39m\n",
      "Stacktrace:\n",
      " [1] \u001b[1mdepwarn\u001b[22m\u001b[22m\u001b[1m(\u001b[22m\u001b[22m::String, ::Symbol\u001b[1m)\u001b[22m\u001b[22m at \u001b[1m./deprecated.jl:70\u001b[22m\u001b[22m\n",
      " [2] \u001b[1m#readtable#229\u001b[22m\u001b[22m\u001b[1m(\u001b[22m\u001b[22m::Bool, ::Char, ::Array{Char,1}, ::Char, ::Array{String,1}, ::Array{String,1}, ::Array{String,1}, ::Bool, ::Int64, ::Array{Symbol,1}, ::Array{Any,1}, ::Bool, ::Char, ::Bool, ::Int64, ::Array{Int64,1}, ::Bool, ::Symbol, ::Bool, ::Bool, ::DataFrames.#readtable, ::String\u001b[1m)\u001b[22m\u001b[22m at \u001b[1m/Users/sdalvi/.julia/v0.6/DataFrames/src/deprecated.jl:1045\u001b[22m\u001b[22m\n",
      " [3] \u001b[1mreadtable\u001b[22m\u001b[22m\u001b[1m(\u001b[22m\u001b[22m::String\u001b[1m)\u001b[22m\u001b[22m at \u001b[1m/Users/sdalvi/.julia/v0.6/DataFrames/src/deprecated.jl:1045\u001b[22m\u001b[22m\n",
      " [4] \u001b[1minclude_string\u001b[22m\u001b[22m\u001b[1m(\u001b[22m\u001b[22m::String, ::String\u001b[1m)\u001b[22m\u001b[22m at \u001b[1m./loading.jl:522\u001b[22m\u001b[22m\n",
      " [5] \u001b[1mexecute_request\u001b[22m\u001b[22m\u001b[1m(\u001b[22m\u001b[22m::ZMQ.Socket, ::IJulia.Msg\u001b[1m)\u001b[22m\u001b[22m at \u001b[1m/Users/sdalvi/.julia/v0.6/IJulia/src/execute_request.jl:158\u001b[22m\u001b[22m\n",
      " [6] \u001b[1m(::Compat.#inner#18{Array{Any,1},IJulia.#execute_request,Tuple{ZMQ.Socket,IJulia.Msg}})\u001b[22m\u001b[22m\u001b[1m(\u001b[22m\u001b[22m\u001b[1m)\u001b[22m\u001b[22m at \u001b[1m/Users/sdalvi/.julia/v0.6/Compat/src/Compat.jl:378\u001b[22m\u001b[22m\n",
      " [7] \u001b[1meventloop\u001b[22m\u001b[22m\u001b[1m(\u001b[22m\u001b[22m::ZMQ.Socket\u001b[1m)\u001b[22m\u001b[22m at \u001b[1m/Users/sdalvi/.julia/v0.6/IJulia/src/eventloop.jl:8\u001b[22m\u001b[22m\n",
      " [8] \u001b[1m(::IJulia.##14#17)\u001b[22m\u001b[22m\u001b[1m(\u001b[22m\u001b[22m\u001b[1m)\u001b[22m\u001b[22m at \u001b[1m./task.jl:335\u001b[22m\u001b[22m\n",
      "while loading In[30], in expression starting on line 6\n"
     ]
    }
   ],
   "source": [
    "bus_raw = readtable(\"../SourceData/bus.csv\");\n",
    "gen_raw = readtable(\"../SourceData/gen.csv\");\n",
    "HydroTS_raw = readtable(\"HYDRO/DAY_AHEAD_hydro.csv\")\n",
    "PVTS_raw = readtable(\"PV/DAY_AHEAD_pv.csv\")\n",
    "RTPVTS_raw = readtable(\"RTPV/DAY_AHEAD_rtpv.csv\")\n",
    "WindTS_raw = readtable(\"WIND/DAY_AHEAD_wind.csv\")\n",
    "CSPTS_raw  =  CSV.read(\"../timeseries_data_files/CSP/DAY_AHEAD_Natural_Inflow.csv\");"
   ]
  },
  {
   "cell_type": "code",
   "execution_count": 14,
   "metadata": {},
   "outputs": [],
   "source": [
    "bus = Array{Bus}(0)\n",
    "for i in 1:nrow(bus_raw)\n",
    "    push!(bus,PowerSystems.Bus(bus_raw[i,1],bus_raw[i,2],bus_raw[i,4],bus_raw[i,8],bus_raw[i,7],\n",
    "            @NT(min=0.95,max=1.05),bus_raw[i,3]))\n",
    "end"
   ]
  },
  {
   "cell_type": "code",
   "execution_count": 32,
   "metadata": {},
   "outputs": [],
   "source": [
    "Generators =Array{PowerSystems.Generator}(0)\n",
    "DayAhead  = collect(DateTime(\"1/1/2024  00:00:00\", \"d/m/y  H:M:S\"):Hour(1):DateTime(\"31/12/2024  23:00:00\", \"d/m/y  H:M:S\"))\n",
    "for gen in 1:nrow(gen_raw)\n",
    "    if gen_raw[gen,:Fuel] in [\"Oil\",\"Coal\",\"NG\",\"Nuclear\"]\n",
    "        varcost=gen_raw[1,[:Output_pct_0,:Output_pct_1,:Output_pct_2,:Output_pct_3,:Output_pct_4,:HR_avg_0,:HR_incr_1,:HR_incr_2,:HR_incr_3,:HR_incr_4]]\n",
    "        fuel_cost = gen_raw[gen,:Fuel_Price_MMBTU]\n",
    "        start_hr =gen_raw[gen,:Start_Heat_Warm_MBTU]\n",
    "        bus_id = [bus[i] for i in 1:length(bus) if bus[i].number == gen_raw[gen,:Bus_ID]] \n",
    "        push!(Generators,PowerSystems.ThermalDispatch(gen_raw[gen,1],true,bus_id[1],\n",
    "                TechThermal(0,@NT(min=float(gen_raw[gen,12]),max=float(gen_raw[gen,11])),0,\n",
    "                    @NT(min=float(gen_raw[gen,14]),max=float(gen_raw[gen,13])),\n",
    "                    @NT(up=gen_raw[gen,:Ramp_Rate_MW_Min],down=gen_raw[gen,:Ramp_Rate_MW_Min]),\n",
    "                    @NT(up=gen_raw[gen,:Min_Up_Time_Hr],down=gen_raw[gen,:Min_Down_Time_Hr])\n",
    "                    ),\n",
    "                EconThermal(gen_raw[gen,:PMax_MW],varcost,0.0,start_hr*fuel_cost,0.0,nothing)\n",
    "                ))\n",
    "    elseif gen_raw[gen,:Fuel] in [\"Hydro\"]\n",
    "        bus_id = [bus[i] for i in 1:length(bus) if bus[i].number == gen_raw[gen,:Bus_ID]] \n",
    "        push!(Generators,HydroCurtailment(gen_raw[gen,:GEN_UID],true,bus_id[1],\n",
    "                        TechHydro(float(gen_raw[gen,11]),0.0,@NT(min =float(gen_raw[gen,12]), max =float(gen_raw[gen,11])),0.0,\n",
    "                            @NT(min=float(gen_raw[gen,14]),max=float(gen_raw[gen,13])),\n",
    "                            @NT(up=gen_raw[gen,:Ramp_Rate_MW_Min],down=gen_raw[gen,:Ramp_Rate_MW_Min]),\n",
    "                            @NT(up=gen_raw[gen,:Min_Up_Time_Hr],down=gen_raw[gen,:Min_Down_Time_Hr])),\n",
    "                            0.0,\n",
    "                            TimeSeries.TimeArray(DayAhead, HydroTS_raw[:,Symbol(\"x\"*gen_raw[gen,:GEN_UID])])\n",
    "                            ))\n",
    "    elseif gen_raw[gen,:Fuel] in [\"Solar\",\"Wind\"]\n",
    "        bus_id = [bus[i] for i in 1:length(bus) if bus[i].number == gen_raw[gen,:Bus_ID]] \n",
    "        if gen_raw[gen,4] == \"PV\"\n",
    "            ts_raw = TimeSeries.TimeArray(DayAhead, PVTS_raw[:,Symbol(\"x\"*gen_raw[gen,:GEN_UID])])\n",
    "        elseif  gen_raw[gen,4] == \"RTPV\"\n",
    "            ts_raw = TimeSeries.TimeArray(DayAhead, RTPVTS_raw[:,Symbol(\"x\"*gen_raw[gen,:GEN_UID])])\n",
    "        elseif  gen_raw[gen,4] == \"WIND\"\n",
    "            ts_raw = TimeSeries.TimeArray(DayAhead, WindTS_raw[:,Symbol(\"x\"*gen_raw[gen,:GEN_UID])])\n",
    "        elseif  gen_raw[gen,4] == \"CSP\"\n",
    "            ts_raw = TimeSeries.TimeArray(DayAhead, CSPTS_raw[:,Symbol(gen_raw[gen,:GEN_UID])])\n",
    "        end\n",
    "#         info(\"Power Factor dont defined assumed to be .95\")\n",
    "        push!(Generators,RenewableCurtailment(gen_raw[gen,:GEN_UID],true,bus_id[1],\n",
    "                            float(gen_raw[gen,12]),EconRenewable(0.0,nothing),ts_raw))\n",
    "    end\n",
    "end"
   ]
  },
  {
   "cell_type": "code",
   "execution_count": 46,
   "metadata": {},
   "outputs": [
    {
     "data": {
      "text/plain": [
       "Dict{String,Any} with 1 entry:\n",
       "  \"Deterministic\" => Dict{String,Any}(Pair{String,Any}(\"215_HYDRO_3\", Dict{Stri…"
      ]
     },
     "execution_count": 46,
     "metadata": {},
     "output_type": "execute_result"
    }
   ],
   "source": [
    "Forecasts_dict =make_forecast_dict(HydroTS_raw,Day(1),24,Generators)"
   ]
  },
  {
   "cell_type": "code",
   "execution_count": 48,
   "metadata": {},
   "outputs": [
    {
     "data": {
      "text/plain": [
       "25x1 TimeSeries.TimeArray{Union{Float64, Missings.Missing},1,DateTime,Array{Union{Float64, Missings.Missing},1}} 2020-02-13T00:00:00 to 2020-02-14T00:00:00\n",
       "│                     │       │\n",
       "├─────────────────────┼───────┤\n",
       "│ 2020-02-13T00:00:00 │ 26.9  │\n",
       "│ 2020-02-13T01:00:00 │ 14.9  │\n",
       "│ 2020-02-13T02:00:00 │ 18.5  │\n",
       "│ 2020-02-13T03:00:00 │ 13.9  │\n",
       "│ 2020-02-13T04:00:00 │ 14.2  │\n",
       "│ 2020-02-13T05:00:00 │ 14.1  │\n",
       "│ 2020-02-13T06:00:00 │ 18.7  │\n",
       "│ 2020-02-13T07:00:00 │ 23.8  │\n",
       "│ 2020-02-13T08:00:00 │ 24.4  │\n",
       "│ 2020-02-13T09:00:00 │ 20.8  │\n",
       "│ 2020-02-13T10:00:00 │ 25.3  │\n",
       "│ 2020-02-13T11:00:00 │ 19.5  │\n",
       "   ⋮\n",
       "│ 2020-02-13T14:00:00 │ 10.1  │\n",
       "│ 2020-02-13T15:00:00 │ 8.9   │\n",
       "│ 2020-02-13T16:00:00 │ 6.9   │\n",
       "│ 2020-02-13T17:00:00 │ 7.1   │\n",
       "│ 2020-02-13T18:00:00 │ 13.4  │\n",
       "│ 2020-02-13T19:00:00 │ 15.4  │\n",
       "│ 2020-02-13T20:00:00 │ 9.6   │\n",
       "│ 2020-02-13T21:00:00 │ 13.4  │\n",
       "│ 2020-02-13T22:00:00 │ 34.8  │\n",
       "│ 2020-02-13T23:00:00 │ 10.6  │\n",
       "│ 2020-02-14T00:00:00 │ 7.7   │"
      ]
     },
     "execution_count": 48,
     "metadata": {},
     "output_type": "execute_result"
    }
   ],
   "source": [
    "Forecasts_dict[\"Deterministic\"][\"215_HYDRO_3\"][\"data\"][DateTime(2020,02,13,00,00,00)][1]"
   ]
  },
  {
   "cell_type": "code",
   "execution_count": 49,
   "metadata": {},
   "outputs": [],
   "source": [
    "for (type_key,type_fc) in Forecasts_dict\n",
    "    for (key,det_dicts) in type_fc\n",
    "        stringdata =JSON.json(det_dicts, 3)\n",
    "        open(\"JSON/$key.json\", \"w\") do f\n",
    "            write(f, stringdata)\n",
    "         end\n",
    "    end\n",
    "end"
   ]
  },
  {
   "cell_type": "code",
   "execution_count": 67,
   "metadata": {},
   "outputs": [
    {
     "data": {
      "text/plain": [
       "Dict{String,Any} with 6 entries:\n",
       "  \"initialtime\" => \"2020-01-01T00:00:00\"\n",
       "  \"resolution\"  => Dict{String,Any}(Pair{String,Any}(\"value\", 1))\n",
       "  \"interval\"    => Dict{String,Any}(Pair{String,Any}(\"value\", 60))\n",
       "  \"device\"      => Dict{String,Any}(Pair{String,Any}(\"name\", \"122_HYDRO_1\"),Pai…\n",
       "  \"horizon\"     => 24\n",
       "  \"data\"        => Dict{String,Any}(Pair{String,Any}(\"2020-05-07T00:00:00\", Dic…"
      ]
     },
     "execution_count": 67,
     "metadata": {},
     "output_type": "execute_result"
    }
   ],
   "source": [
    "dict2 =Dict()\n",
    "open(\"JSON/122_HYDRO_1.json\", \"r\") do f\n",
    "    global dict2\n",
    "    dicttxt = readstring(f)  # file information to string\n",
    "    dict2=JSON.parse(dicttxt)  # parse and transform data\n",
    "end"
   ]
  },
  {
   "cell_type": "code",
   "execution_count": 69,
   "metadata": {},
   "outputs": [
    {
     "data": {
      "text/plain": [
       "154-element Array{PowerSystems.PowerSystemDevice,1}:\n",
       " PowerSystems.ThermalDispatch(name=\"101_CT_1\")        \n",
       " PowerSystems.ThermalDispatch(name=\"101_CT_2\")        \n",
       " PowerSystems.ThermalDispatch(name=\"101_STEAM_3\")     \n",
       " PowerSystems.ThermalDispatch(name=\"101_STEAM_4\")     \n",
       " PowerSystems.ThermalDispatch(name=\"102_CT_1\")        \n",
       " PowerSystems.ThermalDispatch(name=\"102_CT_2\")        \n",
       " PowerSystems.ThermalDispatch(name=\"102_STEAM_3\")     \n",
       " PowerSystems.ThermalDispatch(name=\"102_STEAM_4\")     \n",
       " PowerSystems.ThermalDispatch(name=\"107_CC_1\")        \n",
       " PowerSystems.ThermalDispatch(name=\"113_CT_1\")        \n",
       " PowerSystems.ThermalDispatch(name=\"113_CT_2\")        \n",
       " PowerSystems.ThermalDispatch(name=\"113_CT_3\")        \n",
       " PowerSystems.ThermalDispatch(name=\"113_CT_4\")        \n",
       " ⋮                                                    \n",
       " PowerSystems.RenewableCurtailment(name=\"118_RTPV_5\") \n",
       " PowerSystems.RenewableCurtailment(name=\"118_RTPV_6\") \n",
       " PowerSystems.RenewableCurtailment(name=\"320_RTPV_6\") \n",
       " PowerSystems.RenewableCurtailment(name=\"118_RTPV_7\") \n",
       " PowerSystems.RenewableCurtailment(name=\"118_RTPV_8\") \n",
       " PowerSystems.RenewableCurtailment(name=\"118_RTPV_9\") \n",
       " PowerSystems.RenewableCurtailment(name=\"118_RTPV_10\")\n",
       " PowerSystems.RenewableCurtailment(name=\"213_RTPV_1\") \n",
       " PowerSystems.RenewableCurtailment(name=\"309_WIND_1\") \n",
       " PowerSystems.RenewableCurtailment(name=\"317_WIND_1\") \n",
       " PowerSystems.RenewableCurtailment(name=\"303_WIND_1\") \n",
       " PowerSystems.RenewableCurtailment(name=\"122_WIND_1\") "
      ]
     },
     "execution_count": 69,
     "metadata": {},
     "output_type": "execute_result"
    }
   ],
   "source": [
    "Array{PowerSystems.PowerSystemDevice}(Generators)"
   ]
  },
  {
   "cell_type": "code",
   "execution_count": 63,
   "metadata": {},
   "outputs": [
    {
     "data": {
      "text/plain": [
       "@string_as_varname_macro (macro with 2 methods)"
      ]
     },
     "execution_count": 63,
     "metadata": {},
     "output_type": "execute_result"
    }
   ],
   "source": [
    "macro string_as_varname_macro(s::Any, v::Any)\n",
    "    s = Symbol(s)\n",
    "    esc(:($s = $v))\n",
    "end"
   ]
  },
  {
   "cell_type": "code",
   "execution_count": 59,
   "metadata": {},
   "outputs": [],
   "source": [
    "device_names = [d.name for d in Generators];"
   ]
  },
  {
   "cell_type": "code",
   "execution_count": 64,
   "metadata": {},
   "outputs": [
    {
     "data": {
      "text/plain": [
       "Dict{Any,Any} with 0 entries"
      ]
     },
     "execution_count": 64,
     "metadata": {},
     "output_type": "execute_result"
    }
   ],
   "source": [
    "@string_as_varname_macro(device_names[1],Dict())"
   ]
  },
  {
   "cell_type": "code",
   "execution_count": 62,
   "metadata": {},
   "outputs": [
    {
     "data": {
      "text/plain": [
       "\"101_CT_1\""
      ]
     },
     "execution_count": 62,
     "metadata": {},
     "output_type": "execute_result"
    }
   ],
   "source": [
    "device_names[1]"
   ]
  },
  {
   "cell_type": "code",
   "execution_count": 65,
   "metadata": {},
   "outputs": [
    {
     "ename": "LoadError",
     "evalue": "\u001b[91mUndefVarError: _CT_1 not defined\u001b[39m",
     "output_type": "error",
     "traceback": [
      "\u001b[91mUndefVarError: _CT_1 not defined\u001b[39m",
      ""
     ]
    }
   ],
   "source": []
  },
  {
   "cell_type": "code",
   "execution_count": null,
   "metadata": {},
   "outputs": [],
   "source": []
  }
 ],
 "metadata": {
  "kernelspec": {
   "display_name": "Julia 0.6.2",
   "language": "julia",
   "name": "julia-0.6"
  },
  "language_info": {
   "file_extension": ".jl",
   "mimetype": "application/julia",
   "name": "julia",
   "version": "0.6.2"
  }
 },
 "nbformat": 4,
 "nbformat_minor": 2
}
